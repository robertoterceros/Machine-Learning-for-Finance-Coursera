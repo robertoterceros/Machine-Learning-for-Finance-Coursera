{
 "cells": [
  {
   "cell_type": "markdown",
   "metadata": {},
   "source": [
    "# Minimizar funcion multivariable con Python"
   ]
  },
  {
   "cell_type": "markdown",
   "metadata": {},
   "source": [
    "Minimizar la siguiente funcion:\n",
    "\\begin{equation}\n",
    "x_{1}x_{4}(x_{1} + x_2 + x_3) + x_3\n",
    "\\end{equation}\n",
    "\n",
    "tal que:\n",
    "\\begin{equation*}\n",
    "x_1 x_2 x_3 x_4 \\geq 25\n",
    "\\end{equation*}\n",
    "\n",
    "\\begin{equation}\n",
    "x_1^2 + x_2^2 + x_3^2 + x_4^2 = 40\n",
    "\\end{equation}\n",
    "\n",
    "\\begin{equation}\n",
    "1 \\leq x_1, x_2, x_3, x_4 \\leq 5\n",
    "\\end{equation}\n",
    "\n",
    "\\begin{equation}\n",
    "x_0 = (1,5,5,1)\n",
    "\\end{equation}"
   ]
  },
  {
   "cell_type": "code",
   "execution_count": 3,
   "metadata": {},
   "outputs": [],
   "source": [
    "from scipy.optimize import minimize"
   ]
  },
  {
   "cell_type": "code",
   "execution_count": 8,
   "metadata": {},
   "outputs": [],
   "source": [
    "def objetivo(x):\n",
    "    return x[0]*x[3]*(x[0]+x[1]+x[2]) + x[2]"
   ]
  },
  {
   "cell_type": "code",
   "execution_count": 5,
   "metadata": {},
   "outputs": [],
   "source": [
    "def restriccion1(x):\n",
    "    return x[0]*x[1]*x[2]*x[3]-25"
   ]
  },
  {
   "cell_type": "code",
   "execution_count": 6,
   "metadata": {},
   "outputs": [],
   "source": [
    "def restriccion2(x):\n",
    "    return x[0]**2 + x[1]**2 + x[2]**2 + x[3]**2 - 40"
   ]
  },
  {
   "cell_type": "code",
   "execution_count": 7,
   "metadata": {},
   "outputs": [],
   "source": [
    "b = (1.0, 5.0)\n",
    "limites = (b,b,b,b)\n",
    "\n",
    "rest1 = {'type': 'ineq', 'fun': restriccion1}\n",
    "rest2 = {'type': 'eq', 'fun': restriccion2}\n",
    "rests = [rest1, rest2]\n",
    "\n",
    "x0 = [1,5,5,1]"
   ]
  },
  {
   "cell_type": "code",
   "execution_count": 9,
   "metadata": {},
   "outputs": [],
   "source": [
    "sol = minimize(objetivo, x0, method='SLSQP', bounds=limites, constraints=rests)"
   ]
  },
  {
   "cell_type": "code",
   "execution_count": 10,
   "metadata": {},
   "outputs": [
    {
     "data": {
      "text/plain": [
       "     fun: 17.01401724556073\n",
       "     jac: array([14.57227039,  1.37940764,  2.37940764,  9.56415081])\n",
       " message: 'Optimization terminated successfully.'\n",
       "    nfev: 30\n",
       "     nit: 5\n",
       "    njev: 5\n",
       "  status: 0\n",
       " success: True\n",
       "       x: array([1.        , 4.74299607, 3.82115466, 1.37940764])"
      ]
     },
     "execution_count": 10,
     "metadata": {},
     "output_type": "execute_result"
    }
   ],
   "source": [
    "sol"
   ]
  },
  {
   "cell_type": "code",
   "execution_count": 11,
   "metadata": {},
   "outputs": [
    {
     "data": {
      "text/plain": [
       "array([1.        , 4.74299607, 3.82115466, 1.37940764])"
      ]
     },
     "execution_count": 11,
     "metadata": {},
     "output_type": "execute_result"
    }
   ],
   "source": [
    "sol.x"
   ]
  },
  {
   "cell_type": "code",
   "execution_count": null,
   "metadata": {},
   "outputs": [],
   "source": []
  }
 ],
 "metadata": {
  "kernelspec": {
   "display_name": "Python 3",
   "language": "python",
   "name": "python3"
  },
  "language_info": {
   "codemirror_mode": {
    "name": "ipython",
    "version": 3
   },
   "file_extension": ".py",
   "mimetype": "text/x-python",
   "name": "python",
   "nbconvert_exporter": "python",
   "pygments_lexer": "ipython3",
   "version": "3.7.3"
  }
 },
 "nbformat": 4,
 "nbformat_minor": 2
}
